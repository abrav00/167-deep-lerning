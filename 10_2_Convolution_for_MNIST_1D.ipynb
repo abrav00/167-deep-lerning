{
 "cells": [
  {
   "cell_type": "markdown",
   "metadata": {
    "colab_type": "text",
    "id": "view-in-github"
   },
   "source": [
    "<a href=\"https://colab.research.google.com/github/udlbook/udlbook/blob/main/Notebooks/Chap10/10_2_Convolution_for_MNIST_1D.ipynb\" target=\"_parent\"><img src=\"https://colab.research.google.com/assets/colab-badge.svg\" alt=\"Open In Colab\"/></a>"
   ]
  },
  {
   "cell_type": "markdown",
   "metadata": {
    "id": "t9vk9Elugvmi"
   },
   "source": [
    "# **Notebook 10.2: Convolution for MNIST-1D**\n",
    "\n",
    "This notebook investigates a 1D convolutional network for MNIST-1D as in figure 10.7 and 10.8a.\n",
    "\n",
    "Work through the cells below, running each cell in turn. In various places you will see the words \"TO DO\". Follow the instructions at these places and make predictions about what is going to happen or write code to complete the functions.\n",
    "\n",
    "Contact me at udlbookmail@gmail.com if you find any mistakes or have any suggestions.\n",
    "\n"
   ]
  },
  {
   "cell_type": "code",
   "execution_count": 1,
   "metadata": {
    "id": "D5yLObtZCi9J"
   },
   "outputs": [
    {
     "name": "stdout",
     "output_type": "stream",
     "text": [
      "Collecting git+https://github.com/greydanus/mnist1d\n",
      "  Cloning https://github.com/greydanus/mnist1d to c:\\users\\alons\\appdata\\local\\temp\\pip-req-build-hc4fdz9j\n",
      "  Resolved https://github.com/greydanus/mnist1d to commit 7878d96082abd200c546a07a4101fa90b30fdf7e\n",
      "  Installing build dependencies: started\n",
      "  Installing build dependencies: finished with status 'error'\n"
     ]
    },
    {
     "name": "stderr",
     "output_type": "stream",
     "text": [
      "  Running command git clone --filter=blob:none --quiet https://github.com/greydanus/mnist1d 'C:\\Users\\alons\\AppData\\Local\\Temp\\pip-req-build-hc4fdz9j'\n",
      "  error: subprocess-exited-with-error\n",
      "  \n",
      "  × pip subprocess to install build dependencies did not run successfully.\n",
      "  │ exit code: 1\n",
      "  ╰─> [7 lines of output]\n",
      "      WARNING: Retrying (Retry(total=4, connect=None, read=None, redirect=None, status=None)) after connection broken by 'NewConnectionError('<pip._vendor.urllib3.connection.HTTPSConnection object at 0x000002640570F4D0>: Failed to establish a new connection: [Errno 11001] getaddrinfo failed')': /simple/setuptools/\n",
      "      WARNING: Retrying (Retry(total=3, connect=None, read=None, redirect=None, status=None)) after connection broken by 'NewConnectionError('<pip._vendor.urllib3.connection.HTTPSConnection object at 0x0000026405456EA0>: Failed to establish a new connection: [Errno 11001] getaddrinfo failed')': /simple/setuptools/\n",
      "      WARNING: Retrying (Retry(total=2, connect=None, read=None, redirect=None, status=None)) after connection broken by 'NewConnectionError('<pip._vendor.urllib3.connection.HTTPSConnection object at 0x000002640570F860>: Failed to establish a new connection: [Errno 11001] getaddrinfo failed')': /simple/setuptools/\n",
      "      WARNING: Retrying (Retry(total=1, connect=None, read=None, redirect=None, status=None)) after connection broken by 'NewConnectionError('<pip._vendor.urllib3.connection.HTTPSConnection object at 0x000002640570FA70>: Failed to establish a new connection: [Errno 11001] getaddrinfo failed')': /simple/setuptools/\n",
      "      WARNING: Retrying (Retry(total=0, connect=None, read=None, redirect=None, status=None)) after connection broken by 'NewConnectionError('<pip._vendor.urllib3.connection.HTTPSConnection object at 0x000002640570FC80>: Failed to establish a new connection: [Errno 11001] getaddrinfo failed')': /simple/setuptools/\n",
      "      ERROR: Could not find a version that satisfies the requirement setuptools (from versions: none)\n",
      "      ERROR: No matching distribution found for setuptools\n",
      "      [end of output]\n",
      "  \n",
      "  note: This error originates from a subprocess, and is likely not a problem with pip.\n",
      "\n",
      "[notice] A new release of pip is available: 24.2 -> 24.3.1\n",
      "[notice] To update, run: python.exe -m pip install --upgrade pip\n",
      "error: subprocess-exited-with-error\n",
      "\n",
      "× pip subprocess to install build dependencies did not run successfully.\n",
      "│ exit code: 1\n",
      "╰─> See above for output.\n",
      "\n",
      "note: This error originates from a subprocess, and is likely not a problem with pip.\n"
     ]
    }
   ],
   "source": [
    "# Run this if you're in a Colab to install MNIST 1D repository\n",
    "!pip install git+https://github.com/greydanus/mnist1d"
   ]
  },
  {
   "cell_type": "code",
   "execution_count": 2,
   "metadata": {
    "id": "YrXWAH7sUWvU"
   },
   "outputs": [],
   "source": [
    "import numpy as np\n",
    "import os\n",
    "import torch, torch.nn as nn\n",
    "from torch.utils.data import TensorDataset, DataLoader\n",
    "from torch.optim.lr_scheduler import StepLR\n",
    "import matplotlib.pyplot as plt\n",
    "import mnist1d\n",
    "import random"
   ]
  },
  {
   "cell_type": "code",
   "execution_count": 3,
   "metadata": {
    "id": "twI72ZCrCt5z"
   },
   "outputs": [
    {
     "name": "stdout",
     "output_type": "stream",
     "text": [
      "Did or could not load data from ./mnist1d_data.pkl. Rebuilding dataset...\n",
      "Examples in training set: 4000\n",
      "Examples in test set: 1000\n",
      "Length of each example: 40\n"
     ]
    }
   ],
   "source": [
    "args = mnist1d.data.get_dataset_args()\n",
    "data = mnist1d.data.get_dataset(args, path='./mnist1d_data.pkl', download=False, regenerate=False)\n",
    "\n",
    "# The training and test input and outputs are in\n",
    "# data['x'], data['y'], data['x_test'], and data['y_test']\n",
    "print(\"Examples in training set: {}\".format(len(data['y'])))\n",
    "print(\"Examples in test set: {}\".format(len(data['y_test'])))\n",
    "print(\"Length of each example: {}\".format(data['x'].shape[-1]))"
   ]
  },
  {
   "cell_type": "code",
   "execution_count": 4,
   "metadata": {
    "id": "8bKADvLHbiV5"
   },
   "outputs": [
    {
     "name": "stdout",
     "output_type": "stream",
     "text": [
      "Train data: 4000 examples (columns), each of which has 40 dimensions (rows)\n",
      "Validation data: 1000 examples (columns), each of which has 40 dimensions (rows)\n"
     ]
    }
   ],
   "source": [
    "# Load in the data\n",
    "train_data_x = data['x'].transpose()\n",
    "train_data_y = data['y']\n",
    "val_data_x = data['x_test'].transpose()\n",
    "val_data_y = data['y_test']\n",
    "# Print out sizes\n",
    "print(\"Train data: %d examples (columns), each of which has %d dimensions (rows)\"%((train_data_x.shape[1],train_data_x.shape[0])))\n",
    "print(\"Validation data: %d examples (columns), each of which has %d dimensions (rows)\"%((val_data_x.shape[1],val_data_x.shape[0])))"
   ]
  },
  {
   "cell_type": "markdown",
   "metadata": {
    "id": "_sFvRDGrl4qe"
   },
   "source": [
    "Define the network"
   ]
  },
  {
   "cell_type": "code",
   "execution_count": null,
   "metadata": {
    "id": "FslroPJJffrh"
   },
   "outputs": [],
   "source": [
    "# There are 40 input dimensions and 10 output dimensions for this data\n",
    "# The inputs correspond to the 40 offsets in the MNIST1D template.\n",
    "D_i = 40\n",
    "# The outputs correspond to the 10 digits\n",
    "D_o = 10\n",
    "\n",
    "\n",
    "# TODO Create a model with the following layers\n",
    "# 1. Convolutional layer, (input=length 40 and 1 channel, kernel size 3, stride 2, padding=\"valid\", 15 output channels )\n",
    "# 2. ReLU\n",
    "# 3. Convolutional layer, (input=length 19 and 15 channels, kernel size 3, stride 2, padding=\"valid\", 15 output channels )\n",
    "# 4. ReLU\n",
    "# 5. Convolutional layer, (input=length 9 and 15 channels, kernel size 3, stride 2, padding=\"valid\", 15 output channels)\n",
    "# 6. ReLU\n",
    "# 7. Flatten (converts 4x15) to length 60\n",
    "# 8. Linear layer (input size = 60, output size = 10)\n",
    "# References:\n",
    "# https://pytorch.org/docs/1.13/generated/torch.nn.Conv1d.html?highlight=conv1d#torch.nn.Conv1d\n",
    "# https://pytorch.org/docs/stable/generated/torch.nn.Flatten.html\n",
    "# https://pytorch.org/docs/1.13/generated/torch.nn.Linear.html?highlight=linear#torch.nn.Linear\n",
    "\n",
    "# NOTE THAT THE CONVOLUTIONAL LAYERS NEED TO TAKE THE NUMBER OF INPUT CHANNELS AS A PARAMETER\n",
    "# AND NOT THE INPUT SIZE.\n",
    "\n",
    "# Replace the following function:\n",
    "model = nn.Sequential(\n",
    "    nn.Conv1d(in_channels=1, out_channels=15, kernel_size=3, stride=2, padding=0),\n",
    "    nn.ReLU(),\n",
    "    nn.Conv1d(in_channels=15, out_channels=15, kernel_size=3, stride=2, padding=0),\n",
    "    nn.ReLU(),\n",
    "    nn.Conv1d(in_channels=15, out_channels=15, kernel_size=3, stride=2, padding=0),\n",
    "    nn.ReLU(),\n",
    "    nn.Flatten(),\n",
    "    nn.Linear(60, 10)\n",
    ")\n",
    "\n",
    "\n",
    "\n",
    "\n"
   ]
  },
  {
   "cell_type": "code",
   "execution_count": 9,
   "metadata": {
    "id": "YgLaex1pfhqz"
   },
   "outputs": [],
   "source": [
    "# He initialization of weights\n",
    "def weights_init(layer_in):\n",
    "  if isinstance(layer_in, nn.Linear):\n",
    "    nn.init.kaiming_uniform_(layer_in.weight)\n",
    "    layer_in.bias.data.fill_(0.0)"
   ]
  },
  {
   "cell_type": "code",
   "execution_count": 10,
   "metadata": {
    "id": "NYw8I_3mmX5c"
   },
   "outputs": [
    {
     "name": "stdout",
     "output_type": "stream",
     "text": [
      "Epoch     0, train loss 1.827169, train error 74.43,  val loss 1.836028, percent error 76.80\n",
      "Epoch     1, train loss 1.487490, train error 59.20,  val loss 1.511799, percent error 63.40\n",
      "Epoch     2, train loss 1.323017, train error 52.90,  val loss 1.356870, percent error 55.40\n",
      "Epoch     3, train loss 1.285664, train error 54.10,  val loss 1.309232, percent error 55.10\n",
      "Epoch     4, train loss 1.211480, train error 50.20,  val loss 1.249698, percent error 53.20\n",
      "Epoch     5, train loss 1.025936, train error 41.55,  val loss 1.074341, percent error 44.70\n",
      "Epoch     6, train loss 0.944881, train error 37.42,  val loss 0.989064, percent error 40.30\n",
      "Epoch     7, train loss 0.868537, train error 35.50,  val loss 0.914622, percent error 36.40\n",
      "Epoch     8, train loss 0.746000, train error 29.05,  val loss 0.801182, percent error 32.30\n",
      "Epoch     9, train loss 0.677752, train error 25.43,  val loss 0.736736, percent error 30.50\n",
      "Epoch    10, train loss 0.686118, train error 26.12,  val loss 0.775101, percent error 30.60\n",
      "Epoch    11, train loss 0.592430, train error 23.20,  val loss 0.677707, percent error 26.80\n",
      "Epoch    12, train loss 0.570014, train error 21.60,  val loss 0.697335, percent error 24.50\n",
      "Epoch    13, train loss 0.469252, train error 18.20,  val loss 0.586607, percent error 22.50\n",
      "Epoch    14, train loss 0.477370, train error 18.40,  val loss 0.610672, percent error 25.50\n",
      "Epoch    15, train loss 0.375282, train error 14.12,  val loss 0.512418, percent error 18.30\n",
      "Epoch    16, train loss 0.376656, train error 13.00,  val loss 0.550268, percent error 19.90\n",
      "Epoch    17, train loss 0.362648, train error 12.82,  val loss 0.518724, percent error 18.40\n",
      "Epoch    18, train loss 0.309037, train error 11.10,  val loss 0.438685, percent error 15.40\n",
      "Epoch    19, train loss 0.257601, train error 8.75,  val loss 0.432775, percent error 15.50\n",
      "Epoch    20, train loss 0.209731, train error 7.60,  val loss 0.378536, percent error 12.80\n",
      "Epoch    21, train loss 0.195093, train error 6.90,  val loss 0.382874, percent error 12.30\n",
      "Epoch    22, train loss 0.171182, train error 5.82,  val loss 0.366118, percent error 11.40\n",
      "Epoch    23, train loss 0.160387, train error 5.28,  val loss 0.352685, percent error 12.80\n",
      "Epoch    24, train loss 0.179393, train error 6.18,  val loss 0.370594, percent error 12.50\n",
      "Epoch    25, train loss 0.139018, train error 4.47,  val loss 0.352673, percent error 11.20\n",
      "Epoch    26, train loss 0.201975, train error 7.55,  val loss 0.451796, percent error 14.10\n",
      "Epoch    27, train loss 0.132730, train error 4.47,  val loss 0.372249, percent error 11.60\n",
      "Epoch    28, train loss 0.132192, train error 4.57,  val loss 0.364086, percent error 12.00\n",
      "Epoch    29, train loss 0.131478, train error 4.85,  val loss 0.378000, percent error 12.30\n",
      "Epoch    30, train loss 0.115964, train error 3.70,  val loss 0.363365, percent error 11.00\n",
      "Epoch    31, train loss 0.103774, train error 3.57,  val loss 0.354311, percent error 11.20\n",
      "Epoch    32, train loss 0.112642, train error 3.53,  val loss 0.393905, percent error 11.40\n",
      "Epoch    33, train loss 0.109012, train error 3.60,  val loss 0.375880, percent error 11.90\n",
      "Epoch    34, train loss 0.088351, train error 2.45,  val loss 0.343356, percent error 10.60\n",
      "Epoch    35, train loss 0.084708, train error 2.60,  val loss 0.381591, percent error 10.80\n",
      "Epoch    36, train loss 0.087962, train error 2.75,  val loss 0.390308, percent error 11.60\n",
      "Epoch    37, train loss 0.084670, train error 2.50,  val loss 0.372826, percent error 11.40\n",
      "Epoch    38, train loss 0.113309, train error 4.32,  val loss 0.419268, percent error 12.40\n",
      "Epoch    39, train loss 0.102528, train error 3.62,  val loss 0.408919, percent error 11.20\n",
      "Epoch    40, train loss 0.065673, train error 1.60,  val loss 0.378128, percent error 10.60\n",
      "Epoch    41, train loss 0.064180, train error 1.72,  val loss 0.384686, percent error 10.90\n",
      "Epoch    42, train loss 0.059226, train error 1.43,  val loss 0.381803, percent error 10.50\n",
      "Epoch    43, train loss 0.061779, train error 1.50,  val loss 0.399624, percent error 11.30\n",
      "Epoch    44, train loss 0.058164, train error 1.50,  val loss 0.388226, percent error 11.00\n",
      "Epoch    45, train loss 0.055756, train error 1.32,  val loss 0.391017, percent error 11.30\n",
      "Epoch    46, train loss 0.053717, train error 1.15,  val loss 0.398379, percent error 10.50\n",
      "Epoch    47, train loss 0.056593, train error 1.47,  val loss 0.413482, percent error 11.10\n",
      "Epoch    48, train loss 0.053649, train error 1.22,  val loss 0.407805, percent error 11.30\n",
      "Epoch    49, train loss 0.052705, train error 1.40,  val loss 0.413476, percent error 10.50\n",
      "Epoch    50, train loss 0.056073, train error 1.30,  val loss 0.418006, percent error 10.60\n",
      "Epoch    51, train loss 0.049616, train error 1.10,  val loss 0.407343, percent error 11.30\n",
      "Epoch    52, train loss 0.047424, train error 1.05,  val loss 0.410716, percent error 11.30\n",
      "Epoch    53, train loss 0.046932, train error 1.15,  val loss 0.426640, percent error 11.30\n",
      "Epoch    54, train loss 0.045921, train error 0.95,  val loss 0.423229, percent error 11.20\n",
      "Epoch    55, train loss 0.044292, train error 1.03,  val loss 0.425379, percent error 10.90\n",
      "Epoch    56, train loss 0.046719, train error 0.95,  val loss 0.433471, percent error 11.50\n",
      "Epoch    57, train loss 0.044520, train error 0.93,  val loss 0.438909, percent error 11.40\n",
      "Epoch    58, train loss 0.044380, train error 1.10,  val loss 0.433749, percent error 10.70\n",
      "Epoch    59, train loss 0.049656, train error 1.47,  val loss 0.450089, percent error 11.60\n",
      "Epoch    60, train loss 0.039029, train error 0.80,  val loss 0.438770, percent error 10.60\n",
      "Epoch    61, train loss 0.037627, train error 0.78,  val loss 0.431686, percent error 10.70\n",
      "Epoch    62, train loss 0.037177, train error 0.70,  val loss 0.434782, percent error 10.30\n",
      "Epoch    63, train loss 0.037162, train error 0.70,  val loss 0.437990, percent error 10.80\n",
      "Epoch    64, train loss 0.036835, train error 0.60,  val loss 0.445167, percent error 10.80\n",
      "Epoch    65, train loss 0.035544, train error 0.60,  val loss 0.442255, percent error 11.00\n",
      "Epoch    66, train loss 0.034360, train error 0.55,  val loss 0.437608, percent error 10.50\n",
      "Epoch    67, train loss 0.034943, train error 0.60,  val loss 0.444231, percent error 11.00\n",
      "Epoch    68, train loss 0.034000, train error 0.55,  val loss 0.443629, percent error 11.10\n",
      "Epoch    69, train loss 0.033506, train error 0.57,  val loss 0.442767, percent error 10.20\n",
      "Epoch    70, train loss 0.033862, train error 0.55,  val loss 0.445787, percent error 10.20\n",
      "Epoch    71, train loss 0.033204, train error 0.55,  val loss 0.449274, percent error 10.20\n",
      "Epoch    72, train loss 0.032117, train error 0.43,  val loss 0.449128, percent error 10.60\n",
      "Epoch    73, train loss 0.032442, train error 0.50,  val loss 0.455609, percent error 11.00\n",
      "Epoch    74, train loss 0.031930, train error 0.53,  val loss 0.451208, percent error 10.60\n",
      "Epoch    75, train loss 0.033316, train error 0.47,  val loss 0.459927, percent error 10.90\n",
      "Epoch    76, train loss 0.030370, train error 0.40,  val loss 0.456373, percent error 10.80\n",
      "Epoch    77, train loss 0.031226, train error 0.47,  val loss 0.462421, percent error 10.70\n",
      "Epoch    78, train loss 0.030855, train error 0.43,  val loss 0.460360, percent error 10.30\n",
      "Epoch    79, train loss 0.030975, train error 0.43,  val loss 0.461887, percent error 11.10\n",
      "Epoch    80, train loss 0.029396, train error 0.40,  val loss 0.460898, percent error 10.30\n",
      "Epoch    81, train loss 0.028982, train error 0.30,  val loss 0.464217, percent error 10.80\n",
      "Epoch    82, train loss 0.028796, train error 0.38,  val loss 0.464058, percent error 10.60\n",
      "Epoch    83, train loss 0.029317, train error 0.45,  val loss 0.465121, percent error 10.60\n",
      "Epoch    84, train loss 0.028741, train error 0.35,  val loss 0.466123, percent error 10.40\n",
      "Epoch    85, train loss 0.028656, train error 0.38,  val loss 0.468754, percent error 10.60\n",
      "Epoch    86, train loss 0.028202, train error 0.35,  val loss 0.466741, percent error 10.70\n",
      "Epoch    87, train loss 0.027953, train error 0.35,  val loss 0.468313, percent error 10.50\n",
      "Epoch    88, train loss 0.027894, train error 0.35,  val loss 0.467681, percent error 10.50\n",
      "Epoch    89, train loss 0.027808, train error 0.30,  val loss 0.471346, percent error 10.80\n",
      "Epoch    90, train loss 0.027482, train error 0.30,  val loss 0.471498, percent error 10.80\n",
      "Epoch    91, train loss 0.027445, train error 0.28,  val loss 0.470378, percent error 10.80\n",
      "Epoch    92, train loss 0.027285, train error 0.25,  val loss 0.473513, percent error 10.80\n",
      "Epoch    93, train loss 0.027150, train error 0.28,  val loss 0.472917, percent error 10.90\n",
      "Epoch    94, train loss 0.026845, train error 0.32,  val loss 0.472531, percent error 10.70\n",
      "Epoch    95, train loss 0.026753, train error 0.28,  val loss 0.474104, percent error 10.60\n",
      "Epoch    96, train loss 0.026631, train error 0.35,  val loss 0.476370, percent error 10.60\n",
      "Epoch    97, train loss 0.027467, train error 0.38,  val loss 0.476679, percent error 10.80\n",
      "Epoch    98, train loss 0.026316, train error 0.30,  val loss 0.475782, percent error 10.70\n",
      "Epoch    99, train loss 0.026491, train error 0.30,  val loss 0.476367, percent error 10.70\n"
     ]
    },
    {
     "data": {
      "image/png": "[encoded data removed]",
      "text/plain": [
       "<Figure size 640x480 with 1 Axes>"
      ]
     },
     "metadata": {},
     "output_type": "display_data"
    }
   ],
   "source": [
    "# choose cross entropy loss function (equation 5.24 in the loss notes)\n",
    "loss_function = nn.CrossEntropyLoss()\n",
    "# construct SGD optimizer and initialize learning rate and momentum\n",
    "optimizer = torch.optim.SGD(model.parameters(), lr = 0.05, momentum=0.9)\n",
    "# object that decreases learning rate by half every 20 epochs\n",
    "scheduler = StepLR(optimizer, step_size=20, gamma=0.5)\n",
    "# create 100 dummy data points and store in data loader class\n",
    "x_train = torch.tensor(train_data_x.transpose().astype('float32'))\n",
    "y_train = torch.tensor(train_data_y.astype('long')).long()\n",
    "x_val= torch.tensor(val_data_x.transpose().astype('float32'))\n",
    "y_val = torch.tensor(val_data_y.astype('long')).long()\n",
    "\n",
    "# load the data into a class that creates the batches\n",
    "data_loader = DataLoader(TensorDataset(x_train,y_train), batch_size=100, shuffle=True, worker_init_fn=np.random.seed(1))\n",
    "\n",
    "# Initialize model weights\n",
    "model.apply(weights_init)\n",
    "\n",
    "# loop over the dataset n_epoch times\n",
    "n_epoch = 100\n",
    "# store the loss and the % correct at each epoch\n",
    "losses_train = np.zeros((n_epoch))\n",
    "errors_train = np.zeros((n_epoch))\n",
    "losses_val = np.zeros((n_epoch))\n",
    "errors_val = np.zeros((n_epoch))\n",
    "\n",
    "for epoch in range(n_epoch):\n",
    "  # loop over batches\n",
    "  for i, data in enumerate(data_loader):\n",
    "    # retrieve inputs and labels for this batch\n",
    "    x_batch, y_batch = data\n",
    "    # zero the parameter gradients\n",
    "    optimizer.zero_grad()\n",
    "    # forward pass -- calculate model output\n",
    "    pred = model(x_batch[:,None,:])\n",
    "    # compute the loss\n",
    "    loss = loss_function(pred, y_batch)\n",
    "    # backward pass\n",
    "    loss.backward()\n",
    "    # SGD update\n",
    "    optimizer.step()\n",
    "\n",
    "  # Run whole dataset to get statistics -- normally wouldn't do this\n",
    "  pred_train = model(x_train[:,None,:])\n",
    "  pred_val = model(x_val[:,None,:])\n",
    "  _, predicted_train_class = torch.max(pred_train.data, 1)\n",
    "  _, predicted_val_class = torch.max(pred_val.data, 1)\n",
    "  errors_train[epoch] = 100 - 100 * (predicted_train_class == y_train).float().sum() / len(y_train)\n",
    "  errors_val[epoch]= 100 - 100 * (predicted_val_class == y_val).float().sum() / len(y_val)\n",
    "  losses_train[epoch] = loss_function(pred_train, y_train).item()\n",
    "  losses_val[epoch]= loss_function(pred_val, y_val).item()\n",
    "  print(f'Epoch {epoch:5d}, train loss {losses_train[epoch]:.6f}, train error {errors_train[epoch]:3.2f},  val loss {losses_val[epoch]:.6f}, percent error {errors_val[epoch]:3.2f}')\n",
    "\n",
    "  # tell scheduler to consider updating learning rate\n",
    "  scheduler.step()\n",
    "\n",
    "# Plot the results\n",
    "fig, ax = plt.subplots()\n",
    "ax.plot(errors_train,'r-',label='train')\n",
    "ax.plot(errors_val,'b-',label='validation')\n",
    "ax.set_ylim(0,100); ax.set_xlim(0,n_epoch)\n",
    "ax.set_xlabel('Epoch'); ax.set_ylabel('Error')\n",
    "ax.set_title('Part I: Validation Result %3.2f'%(errors_val[-1]))\n",
    "ax.legend()\n",
    "plt.show()"
   ]
  }
 ],
 "metadata": {
  "colab": {
   "authorship_tag": "ABX9TyNb46PJB/CC1pcHGfjpUUZg",
   "include_colab_link": true,
   "provenance": []
  },
  "kernelspec": {
   "display_name": "Python 3",
   "name": "python3"
  },
  "language_info": {
   "codemirror_mode": {
    "name": "ipython",
    "version": 3
   },
   "file_extension": ".py",
   "mimetype": "text/x-python",
   "name": "python",
   "nbconvert_exporter": "python",
   "pygments_lexer": "ipython3",
   "version": "3.12.7"
  }
 },
 "nbformat": 4,
 "nbformat_minor": 0
}
