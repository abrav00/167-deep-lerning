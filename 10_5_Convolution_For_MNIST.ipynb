{
 "cells": [
  {
   "cell_type": "markdown",
   "metadata": {
    "colab_type": "text",
    "id": "view-in-github"
   },
   "source": [
    "<a href=\"https://colab.research.google.com/github/udlbook/udlbook/blob/main/Notebooks/Chap10/10_5_Convolution_For_MNIST.ipynb\" target=\"_parent\"><img src=\"https://colab.research.google.com/assets/colab-badge.svg\" alt=\"Open In Colab\"/></a>"
   ]
  },
  {
   "cell_type": "markdown",
   "metadata": {
    "id": "t9vk9Elugvmi"
   },
   "source": [
    "# **Notebook 10.5: Convolution for MNIST**\n",
    "\n",
    "This notebook builds a proper network for 2D convolution.  It works with the MNIST dataset (figure 15.15a), which was the original classic dataset for classifying images.  The network will take a 28x28 grayscale image and classify it into one of 10 classes representing a digit.\n",
    "\n",
    "The code is adapted from https://nextjournal.com/gkoehler/pytorch-mnist\n",
    "\n",
    "Work through the cells below, running each cell in turn. In various places you will see the words \"TO DO\". Follow the instructions at these places and make predictions about what is going to happen or write code to complete the functions.\n",
    "\n",
    "Contact me at udlbookmail@gmail.com if you find any mistakes or have any suggestions.\n"
   ]
  },
  {
   "cell_type": "code",
   "execution_count": 12,
   "metadata": {
    "id": "YrXWAH7sUWvU"
   },
   "outputs": [],
   "source": [
    "import torch\n",
    "import torchvision\n",
    "import torch.nn as nn\n",
    "import torch.nn.functional as F\n",
    "import torch.optim as optim\n",
    "import matplotlib.pyplot as plt\n",
    "import random"
   ]
  },
  {
   "cell_type": "code",
   "execution_count": 13,
   "metadata": {
    "id": "wScBGXXFVadm"
   },
   "outputs": [
    {
     "name": "stdout",
     "output_type": "stream",
     "text": [
      "Downloading http://yann.lecun.com/exdb/mnist/train-images-idx3-ubyte.gz\n",
      "Failed to download (trying next):\n",
      "<urlopen error [SSL: CERTIFICATE_VERIFY_FAILED] certificate verify failed: certificate has expired (_ssl.c:1000)>\n",
      "\n",
      "Downloading https://ossci-datasets.s3.amazonaws.com/mnist/train-images-idx3-ubyte.gz\n",
      "Downloading https://ossci-datasets.s3.amazonaws.com/mnist/train-images-idx3-ubyte.gz to ./data\\MNIST\\raw\\train-images-idx3-ubyte.gz\n"
     ]
    },
    {
     "name": "stderr",
     "output_type": "stream",
     "text": [
      "100.0%\n"
     ]
    },
    {
     "name": "stdout",
     "output_type": "stream",
     "text": [
      "Extracting ./data\\MNIST\\raw\\train-images-idx3-ubyte.gz to ./data\\MNIST\\raw\n",
      "\n",
      "Downloading http://yann.lecun.com/exdb/mnist/train-labels-idx1-ubyte.gz\n",
      "Failed to download (trying next):\n",
      "<urlopen error [SSL: CERTIFICATE_VERIFY_FAILED] certificate verify failed: certificate has expired (_ssl.c:1000)>\n",
      "\n",
      "Downloading https://ossci-datasets.s3.amazonaws.com/mnist/train-labels-idx1-ubyte.gz\n",
      "Downloading https://ossci-datasets.s3.amazonaws.com/mnist/train-labels-idx1-ubyte.gz to ./data\\MNIST\\raw\\train-labels-idx1-ubyte.gz\n"
     ]
    },
    {
     "name": "stderr",
     "output_type": "stream",
     "text": [
      "100.0%\n"
     ]
    },
    {
     "name": "stdout",
     "output_type": "stream",
     "text": [
      "Extracting ./data\\MNIST\\raw\\train-labels-idx1-ubyte.gz to ./data\\MNIST\\raw\n",
      "\n",
      "Downloading http://yann.lecun.com/exdb/mnist/t10k-images-idx3-ubyte.gz\n",
      "Failed to download (trying next):\n",
      "<urlopen error [SSL: CERTIFICATE_VERIFY_FAILED] certificate verify failed: certificate has expired (_ssl.c:1000)>\n",
      "\n",
      "Downloading https://ossci-datasets.s3.amazonaws.com/mnist/t10k-images-idx3-ubyte.gz\n",
      "Downloading https://ossci-datasets.s3.amazonaws.com/mnist/t10k-images-idx3-ubyte.gz to ./data\\MNIST\\raw\\t10k-images-idx3-ubyte.gz\n"
     ]
    },
    {
     "name": "stderr",
     "output_type": "stream",
     "text": [
      "100.0%\n"
     ]
    },
    {
     "name": "stdout",
     "output_type": "stream",
     "text": [
      "Extracting ./data\\MNIST\\raw\\t10k-images-idx3-ubyte.gz to ./data\\MNIST\\raw\n",
      "\n",
      "Downloading http://yann.lecun.com/exdb/mnist/t10k-labels-idx1-ubyte.gz\n",
      "Failed to download (trying next):\n",
      "<urlopen error [SSL: CERTIFICATE_VERIFY_FAILED] certificate verify failed: certificate has expired (_ssl.c:1000)>\n",
      "\n",
      "Downloading https://ossci-datasets.s3.amazonaws.com/mnist/t10k-labels-idx1-ubyte.gz\n",
      "Downloading https://ossci-datasets.s3.amazonaws.com/mnist/t10k-labels-idx1-ubyte.gz to ./data\\MNIST\\raw\\t10k-labels-idx1-ubyte.gz\n"
     ]
    },
    {
     "name": "stderr",
     "output_type": "stream",
     "text": [
      "100.0%"
     ]
    },
    {
     "name": "stdout",
     "output_type": "stream",
     "text": [
      "Extracting ./data\\MNIST\\raw\\t10k-labels-idx1-ubyte.gz to ./data\\MNIST\\raw\n",
      "\n"
     ]
    },
    {
     "name": "stderr",
     "output_type": "stream",
     "text": [
      "\n"
     ]
    }
   ],
   "source": [
    "# Run this once to load the train and test data straight into a dataloader class\n",
    "# that will provide the batches\n",
    "\n",
    "# (It may complain that some files are missing because the files seem to have been\n",
    "# reorganized on the underlying website, but it still seems to work). If everything is working\n",
    "# properly, then the whole notebook should run to the end without further problems\n",
    "# even before you make changes.\n",
    "batch_size_train = 64\n",
    "batch_size_test = 1000\n",
    "\n",
    "# TODO Change this directory to point towards an existing directory\n",
    "myDir = './data'\n",
    "\n",
    "train_loader = torch.utils.data.DataLoader(\n",
    "  torchvision.datasets.MNIST(myDir, train=True, download=True,\n",
    "                             transform=torchvision.transforms.Compose([\n",
    "                               torchvision.transforms.ToTensor(),\n",
    "                               torchvision.transforms.Normalize(\n",
    "                                 (0.1307,), (0.3081,))\n",
    "                             ])),\n",
    "  batch_size=batch_size_train, shuffle=True)\n",
    "\n",
    "test_loader = torch.utils.data.DataLoader(\n",
    "  torchvision.datasets.MNIST(myDir, train=False, download=True,\n",
    "                             transform=torchvision.transforms.Compose([\n",
    "                               torchvision.transforms.ToTensor(),\n",
    "                               torchvision.transforms.Normalize(\n",
    "                                 (0.1307,), (0.3081,))\n",
    "                             ])),\n",
    "  batch_size=batch_size_test, shuffle=True)"
   ]
  },
  {
   "cell_type": "code",
   "execution_count": 14,
   "metadata": {
    "id": "8bKADvLHbiV5"
   },
   "outputs": [
    {
     "data": {
      "image/png": "[encoded data removed]",
      "text/plain": [
       "<Figure size 640x480 with 6 Axes>"
      ]
     },
     "metadata": {},
     "output_type": "display_data"
    }
   ],
   "source": [
    "# Let's draw some of the training data\n",
    "examples = enumerate(test_loader)\n",
    "batch_idx, (example_data, example_targets) = next(examples)\n",
    "\n",
    "fig = plt.figure()\n",
    "for i in range(6):\n",
    "  plt.subplot(2,3,i+1)\n",
    "  plt.tight_layout()\n",
    "  plt.imshow(example_data[i][0], cmap='gray', interpolation='none')\n",
    "  plt.title(\"Ground Truth: {}\".format(example_targets[i]))\n",
    "  plt.xticks([])\n",
    "  plt.yticks([])\n",
    "plt.show()"
   ]
  },
  {
   "cell_type": "markdown",
   "metadata": {
    "id": "_sFvRDGrl4qe"
   },
   "source": [
    "Define the network.  This is a more typical way to define a network than the sequential structure.  We define a class for the network, and define the parameters in the constructor.  Then we use a function called forward to actually run the network.  It's easy to see how you might use residual connections in this format."
   ]
  },
  {
   "cell_type": "code",
   "execution_count": null,
   "metadata": {
    "id": "EQkvw2KOPVl7"
   },
   "outputs": [],
   "source": [
    "from os import X_OK\n",
    "# TODO Change this class to implement\n",
    "# 1. A valid convolution with kernel size 5, 1 input channel and 10 output channels\n",
    "# 2. A max pooling operation over a 2x2 area\n",
    "# 3. A Relu\n",
    "# 4. A valid convolution with kernel size 5, 10 input channels and 20 output channels\n",
    "# 5. A 2D Dropout layer\n",
    "# 6. A max pooling operation over a 2x2 area\n",
    "# 7. A relu\n",
    "# 8. A flattening operation\n",
    "# 9. A fully connected layer mapping from (whatever dimensions we are at-- find out using .shape) to 50\n",
    "# 10. A ReLU\n",
    "# 11. A fully connected layer mapping from 50 to 10 dimensions\n",
    "# 12. A softmax function.\n",
    "\n",
    "# Replace this class which implements a minimal network (which still does okay)\n",
    "class Net(nn.Module):\n",
    "    def __init__(self):\n",
    "        super(Net, self).__init__()\n",
    "        self.conv1 = nn.Conv2d(1, 10, kernel_size=5)\n",
    "        \n",
    "        self.conv2 = nn.Conv2d(10, 20, kernel_size=5)\n",
    "\n",
    "        self.drop = nn.Dropout2d()\n",
    "\n",
    "        self.fc1 = nn.Linear(4 * 4 * 20, 50)\n",
    "\n",
    "        self.fc2 = nn.Linear(50, 10)\n",
    "\n",
    "    def forward(self, x):\n",
    "        x = self.conv1(x)\n",
    "        x = F.max_pool2d(x, 2)\n",
    "        x = F.relu(x)\n",
    "        x = self.conv2(x)\n",
    "        x = F.max_pool2d(x, 2)\n",
    "        x = F.relu(x)\n",
    "        x = self.drop(x)\n",
    "        x = x.flatten(1)\n",
    "        x = self.fc1(x)\n",
    "        x = F.relu(x)\n",
    "        x = self.fc2(x)\n",
    "        x = F.log_softmax(x, dim=1)\n",
    "        return x"
   ]
  },
  {
   "cell_type": "code",
   "execution_count": 23,
   "metadata": {
    "id": "qWZtkCZcU_dg"
   },
   "outputs": [],
   "source": [
    "# He initialization of weights\n",
    "def weights_init(layer_in):\n",
    "  if isinstance(layer_in, nn.Linear):\n",
    "    nn.init.kaiming_uniform_(layer_in.weight)\n",
    "    layer_in.bias.data.fill_(0.0)"
   ]
  },
  {
   "cell_type": "code",
   "execution_count": 24,
   "metadata": {
    "id": "FslroPJJffrh"
   },
   "outputs": [],
   "source": [
    "# Create network\n",
    "model = Net()\n",
    "# Initialize model weights\n",
    "model.apply(weights_init)\n",
    "# Define optimizer\n",
    "optimizer = optim.SGD(model.parameters(), lr=0.01, momentum=0.5)"
   ]
  },
  {
   "cell_type": "code",
   "execution_count": 25,
   "metadata": {
    "id": "xKQd9PzkQ766"
   },
   "outputs": [],
   "source": [
    "# Main training routine\n",
    "def train(epoch):\n",
    "  model.train()\n",
    "  # Get each\n",
    "  for batch_idx, (data, target) in enumerate(train_loader):\n",
    "    optimizer.zero_grad()\n",
    "    output = model(data)\n",
    "    loss = F.nll_loss(output, target)\n",
    "    loss.backward()\n",
    "    optimizer.step()\n",
    "    # Store results\n",
    "    if batch_idx % 10 == 0:\n",
    "      print('Train Epoch: {} [{}/{}]\\tLoss: {:.6f}'.format(\n",
    "        epoch, batch_idx * len(data), len(train_loader.dataset), loss.item()))"
   ]
  },
  {
   "cell_type": "code",
   "execution_count": 26,
   "metadata": {
    "id": "Byn-f7qWRLxX"
   },
   "outputs": [],
   "source": [
    "# Run on test data\n",
    "def test():\n",
    "  model.eval()\n",
    "  test_loss = 0\n",
    "  correct = 0\n",
    "  with torch.no_grad():\n",
    "    for data, target in test_loader:\n",
    "      output = model(data)\n",
    "      test_loss += F.nll_loss(output, target, size_average=False).item()\n",
    "      pred = output.data.max(1, keepdim=True)[1]\n",
    "      correct += pred.eq(target.data.view_as(pred)).sum()\n",
    "  test_loss /= len(test_loader.dataset)\n",
    "  print('\\nTest set: Avg. loss: {:.4f}, Accuracy: {}/{} ({:.0f}%)\\n'.format(\n",
    "    test_loss, correct, len(test_loader.dataset),\n",
    "    100. * correct / len(test_loader.dataset)))"
   ]
  },
  {
   "cell_type": "code",
   "execution_count": 27,
   "metadata": {
    "id": "YgLaex1pfhqz"
   },
   "outputs": [
    {
     "name": "stdout",
     "output_type": "stream",
     "text": [
      "\n",
      "Test set: Avg. loss: 2.4074, Accuracy: 898/10000 (9%)\n",
      "\n",
      "Train Epoch: 1 [0/60000]\tLoss: 2.488662\n",
      "Train Epoch: 1 [640/60000]\tLoss: 2.211024\n",
      "Train Epoch: 1 [1280/60000]\tLoss: 2.142058\n",
      "Train Epoch: 1 [1920/60000]\tLoss: 2.013502\n",
      "Train Epoch: 1 [2560/60000]\tLoss: 1.761722\n",
      "Train Epoch: 1 [3200/60000]\tLoss: 1.444021\n",
      "Train Epoch: 1 [3840/60000]\tLoss: 1.570377\n",
      "Train Epoch: 1 [4480/60000]\tLoss: 1.281185\n",
      "Train Epoch: 1 [5120/60000]\tLoss: 1.144818\n",
      "Train Epoch: 1 [5760/60000]\tLoss: 1.089061\n",
      "Train Epoch: 1 [6400/60000]\tLoss: 1.107126\n",
      "Train Epoch: 1 [7040/60000]\tLoss: 0.831977\n",
      "Train Epoch: 1 [7680/60000]\tLoss: 0.909706\n",
      "Train Epoch: 1 [8320/60000]\tLoss: 0.775483\n",
      "Train Epoch: 1 [8960/60000]\tLoss: 0.719882\n",
      "Train Epoch: 1 [9600/60000]\tLoss: 0.522265\n",
      "Train Epoch: 1 [10240/60000]\tLoss: 0.512885\n",
      "Train Epoch: 1 [10880/60000]\tLoss: 0.617205\n",
      "Train Epoch: 1 [11520/60000]\tLoss: 0.645685\n",
      "Train Epoch: 1 [12160/60000]\tLoss: 0.435364\n",
      "Train Epoch: 1 [12800/60000]\tLoss: 0.706929\n",
      "Train Epoch: 1 [13440/60000]\tLoss: 0.504375\n",
      "Train Epoch: 1 [14080/60000]\tLoss: 0.412195\n",
      "Train Epoch: 1 [14720/60000]\tLoss: 0.422176\n",
      "Train Epoch: 1 [15360/60000]\tLoss: 0.607664\n",
      "Train Epoch: 1 [16000/60000]\tLoss: 0.320211\n",
      "Train Epoch: 1 [16640/60000]\tLoss: 0.535594\n",
      "Train Epoch: 1 [17280/60000]\tLoss: 0.556608\n",
      "Train Epoch: 1 [17920/60000]\tLoss: 0.581261\n",
      "Train Epoch: 1 [18560/60000]\tLoss: 0.405498\n",
      "Train Epoch: 1 [19200/60000]\tLoss: 0.632189\n",
      "Train Epoch: 1 [19840/60000]\tLoss: 0.599414\n",
      "Train Epoch: 1 [20480/60000]\tLoss: 0.579795\n",
      "Train Epoch: 1 [21120/60000]\tLoss: 0.499239\n",
      "Train Epoch: 1 [21760/60000]\tLoss: 0.392943\n",
      "Train Epoch: 1 [22400/60000]\tLoss: 0.367404\n",
      "Train Epoch: 1 [23040/60000]\tLoss: 0.350335\n",
      "Train Epoch: 1 [23680/60000]\tLoss: 0.513036\n",
      "Train Epoch: 1 [24320/60000]\tLoss: 0.284705\n",
      "Train Epoch: 1 [24960/60000]\tLoss: 0.556887\n",
      "Train Epoch: 1 [25600/60000]\tLoss: 0.314769\n",
      "Train Epoch: 1 [26240/60000]\tLoss: 0.414511\n",
      "Train Epoch: 1 [26880/60000]\tLoss: 0.495078\n",
      "Train Epoch: 1 [27520/60000]\tLoss: 0.341962\n",
      "Train Epoch: 1 [28160/60000]\tLoss: 0.280974\n",
      "Train Epoch: 1 [28800/60000]\tLoss: 0.362168\n",
      "Train Epoch: 1 [29440/60000]\tLoss: 0.354817\n",
      "Train Epoch: 1 [30080/60000]\tLoss: 0.359964\n",
      "Train Epoch: 1 [30720/60000]\tLoss: 0.280008\n",
      "Train Epoch: 1 [31360/60000]\tLoss: 0.432721\n",
      "Train Epoch: 1 [32000/60000]\tLoss: 0.505077\n",
      "Train Epoch: 1 [32640/60000]\tLoss: 0.421708\n",
      "Train Epoch: 1 [33280/60000]\tLoss: 0.294070\n",
      "Train Epoch: 1 [33920/60000]\tLoss: 0.285851\n",
      "Train Epoch: 1 [34560/60000]\tLoss: 0.273476\n",
      "Train Epoch: 1 [35200/60000]\tLoss: 0.313076\n",
      "Train Epoch: 1 [35840/60000]\tLoss: 0.445093\n",
      "Train Epoch: 1 [36480/60000]\tLoss: 0.240223\n",
      "Train Epoch: 1 [37120/60000]\tLoss: 0.282431\n",
      "Train Epoch: 1 [37760/60000]\tLoss: 0.272233\n",
      "Train Epoch: 1 [38400/60000]\tLoss: 0.314661\n",
      "Train Epoch: 1 [39040/60000]\tLoss: 0.267588\n",
      "Train Epoch: 1 [39680/60000]\tLoss: 0.321628\n",
      "Train Epoch: 1 [40320/60000]\tLoss: 0.236075\n",
      "Train Epoch: 1 [40960/60000]\tLoss: 0.427948\n",
      "Train Epoch: 1 [41600/60000]\tLoss: 0.279521\n",
      "Train Epoch: 1 [42240/60000]\tLoss: 0.481193\n",
      "Train Epoch: 1 [42880/60000]\tLoss: 0.361809\n",
      "Train Epoch: 1 [43520/60000]\tLoss: 0.173469\n",
      "Train Epoch: 1 [44160/60000]\tLoss: 0.342527\n",
      "Train Epoch: 1 [44800/60000]\tLoss: 0.312331\n",
      "Train Epoch: 1 [45440/60000]\tLoss: 0.195889\n",
      "Train Epoch: 1 [46080/60000]\tLoss: 0.174295\n",
      "Train Epoch: 1 [46720/60000]\tLoss: 0.257317\n",
      "Train Epoch: 1 [47360/60000]\tLoss: 0.314250\n",
      "Train Epoch: 1 [48000/60000]\tLoss: 0.162979\n",
      "Train Epoch: 1 [48640/60000]\tLoss: 0.182821\n",
      "Train Epoch: 1 [49280/60000]\tLoss: 0.355861\n",
      "Train Epoch: 1 [49920/60000]\tLoss: 0.175795\n",
      "Train Epoch: 1 [50560/60000]\tLoss: 0.316298\n",
      "Train Epoch: 1 [51200/60000]\tLoss: 0.232861\n",
      "Train Epoch: 1 [51840/60000]\tLoss: 0.305838\n",
      "Train Epoch: 1 [52480/60000]\tLoss: 0.143812\n",
      "Train Epoch: 1 [53120/60000]\tLoss: 0.342432\n",
      "Train Epoch: 1 [53760/60000]\tLoss: 0.343442\n",
      "Train Epoch: 1 [54400/60000]\tLoss: 0.242731\n",
      "Train Epoch: 1 [55040/60000]\tLoss: 0.391924\n",
      "Train Epoch: 1 [55680/60000]\tLoss: 0.111120\n",
      "Train Epoch: 1 [56320/60000]\tLoss: 0.307733\n",
      "Train Epoch: 1 [56960/60000]\tLoss: 0.090250\n",
      "Train Epoch: 1 [57600/60000]\tLoss: 0.199558\n",
      "Train Epoch: 1 [58240/60000]\tLoss: 0.243113\n",
      "Train Epoch: 1 [58880/60000]\tLoss: 0.131383\n",
      "Train Epoch: 1 [59520/60000]\tLoss: 0.256577\n",
      "\n",
      "Test set: Avg. loss: 0.1220, Accuracy: 9613/10000 (96%)\n",
      "\n",
      "Train Epoch: 2 [0/60000]\tLoss: 0.248297\n",
      "Train Epoch: 2 [640/60000]\tLoss: 0.415493\n",
      "Train Epoch: 2 [1280/60000]\tLoss: 0.216004\n",
      "Train Epoch: 2 [1920/60000]\tLoss: 0.306559\n",
      "Train Epoch: 2 [2560/60000]\tLoss: 0.110384\n",
      "Train Epoch: 2 [3200/60000]\tLoss: 0.291279\n",
      "Train Epoch: 2 [3840/60000]\tLoss: 0.591452\n",
      "Train Epoch: 2 [4480/60000]\tLoss: 0.193870\n",
      "Train Epoch: 2 [5120/60000]\tLoss: 0.136025\n",
      "Train Epoch: 2 [5760/60000]\tLoss: 0.234001\n",
      "Train Epoch: 2 [6400/60000]\tLoss: 0.217203\n",
      "Train Epoch: 2 [7040/60000]\tLoss: 0.194870\n",
      "Train Epoch: 2 [7680/60000]\tLoss: 0.102532\n",
      "Train Epoch: 2 [8320/60000]\tLoss: 0.182860\n",
      "Train Epoch: 2 [8960/60000]\tLoss: 0.235753\n",
      "Train Epoch: 2 [9600/60000]\tLoss: 0.243896\n",
      "Train Epoch: 2 [10240/60000]\tLoss: 0.130486\n",
      "Train Epoch: 2 [10880/60000]\tLoss: 0.267689\n",
      "Train Epoch: 2 [11520/60000]\tLoss: 0.166280\n",
      "Train Epoch: 2 [12160/60000]\tLoss: 0.152884\n",
      "Train Epoch: 2 [12800/60000]\tLoss: 0.281113\n",
      "Train Epoch: 2 [13440/60000]\tLoss: 0.450714\n",
      "Train Epoch: 2 [14080/60000]\tLoss: 0.351247\n",
      "Train Epoch: 2 [14720/60000]\tLoss: 0.324911\n",
      "Train Epoch: 2 [15360/60000]\tLoss: 0.152659\n",
      "Train Epoch: 2 [16000/60000]\tLoss: 0.235837\n",
      "Train Epoch: 2 [16640/60000]\tLoss: 0.203922\n",
      "Train Epoch: 2 [17280/60000]\tLoss: 0.292415\n",
      "Train Epoch: 2 [17920/60000]\tLoss: 0.078894\n",
      "Train Epoch: 2 [18560/60000]\tLoss: 0.207376\n",
      "Train Epoch: 2 [19200/60000]\tLoss: 0.322203\n",
      "Train Epoch: 2 [19840/60000]\tLoss: 0.235923\n",
      "Train Epoch: 2 [20480/60000]\tLoss: 0.133255\n",
      "Train Epoch: 2 [21120/60000]\tLoss: 0.130433\n",
      "Train Epoch: 2 [21760/60000]\tLoss: 0.247561\n",
      "Train Epoch: 2 [22400/60000]\tLoss: 0.126684\n",
      "Train Epoch: 2 [23040/60000]\tLoss: 0.050878\n",
      "Train Epoch: 2 [23680/60000]\tLoss: 0.140255\n",
      "Train Epoch: 2 [24320/60000]\tLoss: 0.151446\n",
      "Train Epoch: 2 [24960/60000]\tLoss: 0.142562\n",
      "Train Epoch: 2 [25600/60000]\tLoss: 0.297742\n",
      "Train Epoch: 2 [26240/60000]\tLoss: 0.150398\n",
      "Train Epoch: 2 [26880/60000]\tLoss: 0.165399\n",
      "Train Epoch: 2 [27520/60000]\tLoss: 0.266409\n",
      "Train Epoch: 2 [28160/60000]\tLoss: 0.248249\n",
      "Train Epoch: 2 [28800/60000]\tLoss: 0.221954\n",
      "Train Epoch: 2 [29440/60000]\tLoss: 0.404112\n",
      "Train Epoch: 2 [30080/60000]\tLoss: 0.191654\n",
      "Train Epoch: 2 [30720/60000]\tLoss: 0.066599\n",
      "Train Epoch: 2 [31360/60000]\tLoss: 0.200558\n",
      "Train Epoch: 2 [32000/60000]\tLoss: 0.130979\n",
      "Train Epoch: 2 [32640/60000]\tLoss: 0.130316\n",
      "Train Epoch: 2 [33280/60000]\tLoss: 0.266688\n",
      "Train Epoch: 2 [33920/60000]\tLoss: 0.102502\n",
      "Train Epoch: 2 [34560/60000]\tLoss: 0.107719\n",
      "Train Epoch: 2 [35200/60000]\tLoss: 0.094219\n",
      "Train Epoch: 2 [35840/60000]\tLoss: 0.170868\n",
      "Train Epoch: 2 [36480/60000]\tLoss: 0.280587\n",
      "Train Epoch: 2 [37120/60000]\tLoss: 0.290338\n",
      "Train Epoch: 2 [37760/60000]\tLoss: 0.190577\n",
      "Train Epoch: 2 [38400/60000]\tLoss: 0.154922\n",
      "Train Epoch: 2 [39040/60000]\tLoss: 0.162690\n",
      "Train Epoch: 2 [39680/60000]\tLoss: 0.183085\n",
      "Train Epoch: 2 [40320/60000]\tLoss: 0.213173\n",
      "Train Epoch: 2 [40960/60000]\tLoss: 0.556094\n",
      "Train Epoch: 2 [41600/60000]\tLoss: 0.168263\n",
      "Train Epoch: 2 [42240/60000]\tLoss: 0.242393\n",
      "Train Epoch: 2 [42880/60000]\tLoss: 0.173568\n",
      "Train Epoch: 2 [43520/60000]\tLoss: 0.050769\n",
      "Train Epoch: 2 [44160/60000]\tLoss: 0.163706\n",
      "Train Epoch: 2 [44800/60000]\tLoss: 0.156558\n",
      "Train Epoch: 2 [45440/60000]\tLoss: 0.102848\n",
      "Train Epoch: 2 [46080/60000]\tLoss: 0.092094\n",
      "Train Epoch: 2 [46720/60000]\tLoss: 0.114595\n",
      "Train Epoch: 2 [47360/60000]\tLoss: 0.150085\n",
      "Train Epoch: 2 [48000/60000]\tLoss: 0.165057\n",
      "Train Epoch: 2 [48640/60000]\tLoss: 0.240047\n",
      "Train Epoch: 2 [49280/60000]\tLoss: 0.182779\n",
      "Train Epoch: 2 [49920/60000]\tLoss: 0.130108\n",
      "Train Epoch: 2 [50560/60000]\tLoss: 0.264984\n",
      "Train Epoch: 2 [51200/60000]\tLoss: 0.153651\n",
      "Train Epoch: 2 [51840/60000]\tLoss: 0.185353\n",
      "Train Epoch: 2 [52480/60000]\tLoss: 0.150672\n",
      "Train Epoch: 2 [53120/60000]\tLoss: 0.036272\n",
      "Train Epoch: 2 [53760/60000]\tLoss: 0.116393\n",
      "Train Epoch: 2 [54400/60000]\tLoss: 0.096989\n",
      "Train Epoch: 2 [55040/60000]\tLoss: 0.042707\n",
      "Train Epoch: 2 [55680/60000]\tLoss: 0.147966\n",
      "Train Epoch: 2 [56320/60000]\tLoss: 0.092672\n",
      "Train Epoch: 2 [56960/60000]\tLoss: 0.174030\n",
      "Train Epoch: 2 [57600/60000]\tLoss: 0.100439\n",
      "Train Epoch: 2 [58240/60000]\tLoss: 0.222749\n",
      "Train Epoch: 2 [58880/60000]\tLoss: 0.180858\n",
      "Train Epoch: 2 [59520/60000]\tLoss: 0.075709\n",
      "\n",
      "Test set: Avg. loss: 0.0842, Accuracy: 9733/10000 (97%)\n",
      "\n",
      "Train Epoch: 3 [0/60000]\tLoss: 0.224407\n",
      "Train Epoch: 3 [640/60000]\tLoss: 0.207067\n",
      "Train Epoch: 3 [1280/60000]\tLoss: 0.131134\n",
      "Train Epoch: 3 [1920/60000]\tLoss: 0.201135\n",
      "Train Epoch: 3 [2560/60000]\tLoss: 0.219729\n",
      "Train Epoch: 3 [3200/60000]\tLoss: 0.328727\n",
      "Train Epoch: 3 [3840/60000]\tLoss: 0.174992\n",
      "Train Epoch: 3 [4480/60000]\tLoss: 0.194882\n",
      "Train Epoch: 3 [5120/60000]\tLoss: 0.267380\n",
      "Train Epoch: 3 [5760/60000]\tLoss: 0.148078\n",
      "Train Epoch: 3 [6400/60000]\tLoss: 0.168914\n",
      "Train Epoch: 3 [7040/60000]\tLoss: 0.182468\n",
      "Train Epoch: 3 [7680/60000]\tLoss: 0.387650\n",
      "Train Epoch: 3 [8320/60000]\tLoss: 0.093685\n",
      "Train Epoch: 3 [8960/60000]\tLoss: 0.246549\n",
      "Train Epoch: 3 [9600/60000]\tLoss: 0.115976\n",
      "Train Epoch: 3 [10240/60000]\tLoss: 0.218760\n",
      "Train Epoch: 3 [10880/60000]\tLoss: 0.105887\n",
      "Train Epoch: 3 [11520/60000]\tLoss: 0.136017\n",
      "Train Epoch: 3 [12160/60000]\tLoss: 0.275411\n",
      "Train Epoch: 3 [12800/60000]\tLoss: 0.055363\n",
      "Train Epoch: 3 [13440/60000]\tLoss: 0.092509\n",
      "Train Epoch: 3 [14080/60000]\tLoss: 0.157172\n",
      "Train Epoch: 3 [14720/60000]\tLoss: 0.240187\n",
      "Train Epoch: 3 [15360/60000]\tLoss: 0.154958\n",
      "Train Epoch: 3 [16000/60000]\tLoss: 0.144637\n",
      "Train Epoch: 3 [16640/60000]\tLoss: 0.103555\n",
      "Train Epoch: 3 [17280/60000]\tLoss: 0.142529\n",
      "Train Epoch: 3 [17920/60000]\tLoss: 0.203019\n",
      "Train Epoch: 3 [18560/60000]\tLoss: 0.149715\n",
      "Train Epoch: 3 [19200/60000]\tLoss: 0.112385\n",
      "Train Epoch: 3 [19840/60000]\tLoss: 0.072136\n",
      "Train Epoch: 3 [20480/60000]\tLoss: 0.100659\n",
      "Train Epoch: 3 [21120/60000]\tLoss: 0.074237\n",
      "Train Epoch: 3 [21760/60000]\tLoss: 0.358741\n",
      "Train Epoch: 3 [22400/60000]\tLoss: 0.093443\n",
      "Train Epoch: 3 [23040/60000]\tLoss: 0.205369\n",
      "Train Epoch: 3 [23680/60000]\tLoss: 0.100803\n",
      "Train Epoch: 3 [24320/60000]\tLoss: 0.117011\n",
      "Train Epoch: 3 [24960/60000]\tLoss: 0.346360\n",
      "Train Epoch: 3 [25600/60000]\tLoss: 0.315713\n",
      "Train Epoch: 3 [26240/60000]\tLoss: 0.225048\n",
      "Train Epoch: 3 [26880/60000]\tLoss: 0.195598\n",
      "Train Epoch: 3 [27520/60000]\tLoss: 0.098432\n",
      "Train Epoch: 3 [28160/60000]\tLoss: 0.118273\n",
      "Train Epoch: 3 [28800/60000]\tLoss: 0.092196\n",
      "Train Epoch: 3 [29440/60000]\tLoss: 0.263426\n",
      "Train Epoch: 3 [30080/60000]\tLoss: 0.039838\n",
      "Train Epoch: 3 [30720/60000]\tLoss: 0.223805\n",
      "Train Epoch: 3 [31360/60000]\tLoss: 0.179483\n",
      "Train Epoch: 3 [32000/60000]\tLoss: 0.157429\n",
      "Train Epoch: 3 [32640/60000]\tLoss: 0.091627\n",
      "Train Epoch: 3 [33280/60000]\tLoss: 0.065547\n",
      "Train Epoch: 3 [33920/60000]\tLoss: 0.252459\n",
      "Train Epoch: 3 [34560/60000]\tLoss: 0.162336\n",
      "Train Epoch: 3 [35200/60000]\tLoss: 0.083624\n",
      "Train Epoch: 3 [35840/60000]\tLoss: 0.278020\n",
      "Train Epoch: 3 [36480/60000]\tLoss: 0.090455\n",
      "Train Epoch: 3 [37120/60000]\tLoss: 0.062488\n",
      "Train Epoch: 3 [37760/60000]\tLoss: 0.297977\n",
      "Train Epoch: 3 [38400/60000]\tLoss: 0.025749\n",
      "Train Epoch: 3 [39040/60000]\tLoss: 0.173029\n",
      "Train Epoch: 3 [39680/60000]\tLoss: 0.102905\n",
      "Train Epoch: 3 [40320/60000]\tLoss: 0.037601\n",
      "Train Epoch: 3 [40960/60000]\tLoss: 0.129356\n",
      "Train Epoch: 3 [41600/60000]\tLoss: 0.123237\n",
      "Train Epoch: 3 [42240/60000]\tLoss: 0.219738\n",
      "Train Epoch: 3 [42880/60000]\tLoss: 0.132351\n",
      "Train Epoch: 3 [43520/60000]\tLoss: 0.145032\n",
      "Train Epoch: 3 [44160/60000]\tLoss: 0.044433\n",
      "Train Epoch: 3 [44800/60000]\tLoss: 0.167021\n",
      "Train Epoch: 3 [45440/60000]\tLoss: 0.092992\n",
      "Train Epoch: 3 [46080/60000]\tLoss: 0.067025\n",
      "Train Epoch: 3 [46720/60000]\tLoss: 0.063984\n",
      "Train Epoch: 3 [47360/60000]\tLoss: 0.092275\n",
      "Train Epoch: 3 [48000/60000]\tLoss: 0.131877\n",
      "Train Epoch: 3 [48640/60000]\tLoss: 0.081540\n",
      "Train Epoch: 3 [49280/60000]\tLoss: 0.246355\n",
      "Train Epoch: 3 [49920/60000]\tLoss: 0.164735\n",
      "Train Epoch: 3 [50560/60000]\tLoss: 0.112144\n",
      "Train Epoch: 3 [51200/60000]\tLoss: 0.143356\n",
      "Train Epoch: 3 [51840/60000]\tLoss: 0.058063\n",
      "Train Epoch: 3 [52480/60000]\tLoss: 0.097573\n",
      "Train Epoch: 3 [53120/60000]\tLoss: 0.051866\n",
      "Train Epoch: 3 [53760/60000]\tLoss: 0.121888\n",
      "Train Epoch: 3 [54400/60000]\tLoss: 0.135694\n",
      "Train Epoch: 3 [55040/60000]\tLoss: 0.084115\n",
      "Train Epoch: 3 [55680/60000]\tLoss: 0.195760\n",
      "Train Epoch: 3 [56320/60000]\tLoss: 0.207008\n",
      "Train Epoch: 3 [56960/60000]\tLoss: 0.206414\n",
      "Train Epoch: 3 [57600/60000]\tLoss: 0.069052\n",
      "Train Epoch: 3 [58240/60000]\tLoss: 0.080692\n",
      "Train Epoch: 3 [58880/60000]\tLoss: 0.246730\n",
      "Train Epoch: 3 [59520/60000]\tLoss: 0.081933\n",
      "\n",
      "Test set: Avg. loss: 0.0682, Accuracy: 9792/10000 (98%)\n",
      "\n"
     ]
    }
   ],
   "source": [
    "# Get initial performance\n",
    "test()\n",
    "# Train for three epochs\n",
    "n_epochs = 3\n",
    "for epoch in range(1, n_epochs + 1):\n",
    "  train(epoch)\n",
    "  test()"
   ]
  },
  {
   "cell_type": "code",
   "execution_count": 28,
   "metadata": {
    "id": "o7fRUAy9Se1B"
   },
   "outputs": [
    {
     "data": {
      "image/png": "[encoded data removed]",
      "text/plain": [
       "<Figure size 640x480 with 10 Axes>"
      ]
     },
     "metadata": {},
     "output_type": "display_data"
    }
   ],
   "source": [
    "# Run network on data we got before and show predictions\n",
    "output = model(example_data)\n",
    "\n",
    "fig = plt.figure()\n",
    "for i in range(10):\n",
    "  plt.subplot(5,5,i+1)\n",
    "  plt.tight_layout()\n",
    "  plt.imshow(example_data[i][0], cmap='gray', interpolation='none')\n",
    "  plt.title(\"Prediction: {}\".format(\n",
    "    output.data.max(1, keepdim=True)[1][i].item()))\n",
    "  plt.xticks([])\n",
    "  plt.yticks([])\n",
    "plt.show()"
   ]
  }
 ],
 "metadata": {
  "colab": {
   "authorship_tag": "ABX9TyORZF8xy4X1yf4oRhRq8Rtm",
   "include_colab_link": true,
   "provenance": []
  },
  "kernelspec": {
   "display_name": "Python 3",
   "name": "python3"
  },
  "language_info": {
   "codemirror_mode": {
    "name": "ipython",
    "version": 3
   },
   "file_extension": ".py",
   "mimetype": "text/x-python",
   "name": "python",
   "nbconvert_exporter": "python",
   "pygments_lexer": "ipython3",
   "version": "3.12.7"
  }
 },
 "nbformat": 4,
 "nbformat_minor": 0
}
